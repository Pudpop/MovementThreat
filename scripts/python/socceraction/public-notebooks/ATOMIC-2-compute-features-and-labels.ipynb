{
 "cells": [
  {
   "cell_type": "code",
   "execution_count": 11,
   "metadata": {},
   "outputs": [
    {
     "name": "stdout",
     "output_type": "stream",
     "text": [
      "The autoreload extension is already loaded. To reload it, use:\n",
      "  %reload_ext autoreload\n"
     ]
    }
   ],
   "source": [
    "%load_ext autoreload\n",
    "%autoreload 2\n",
    "import os;\n",
    "import pandas as pd\n",
    "import tqdm\n",
    "import warnings\n",
    "warnings.simplefilter(action='ignore', category=pd.errors.PerformanceWarning)\n",
    "\n",
    "import socceraction.atomic.vaep.features as fs\n",
    "import socceraction.atomic.vaep.labels as lab"
   ]
  },
  {
   "cell_type": "code",
   "execution_count": 13,
   "metadata": {},
   "outputs": [],
   "source": [
    "## Configure file and folder names\n",
    "datafolder = \"../data-fifa\"\n",
    "spadl_h5 = os.path.join(datafolder,\"atomic-spadl-statsbomb.h5\")\n",
    "features_h5 = os.path.join(datafolder,\"atomic-features.h5\")\n",
    "labels_h5 = os.path.join(datafolder,\"atomic-labels.h5\")\n",
    "predictions_h5 = os.path.join(datafolder,\"atomic-predictions.h5\")"
   ]
  },
  {
   "cell_type": "code",
   "execution_count": 14,
   "metadata": {},
   "outputs": [
    {
     "name": "stdout",
     "output_type": "stream",
     "text": [
      "nb of games: 64\n"
     ]
    }
   ],
   "source": [
    "games = pd.read_hdf(spadl_h5,\"games\")\n",
    "#games = games[games.competition_name == \"Premier League\"]\n",
    "print(\"nb of games:\", len(games))\n",
    "\n",
    "actiontypes = pd.read_hdf(spadl_h5, \"atomic_actiontypes\")\n",
    "bodyparts = pd.read_hdf(spadl_h5, \"bodyparts\")"
   ]
  },
  {
   "cell_type": "code",
   "execution_count": 15,
   "metadata": {},
   "outputs": [
    {
     "name": "stderr",
     "output_type": "stream",
     "text": [
      "Generating and storing features in ../../data-fifa/atomic-features.h5: 100%|██████████| 64/64 [00:09<00:00,  7.07it/s]\n"
     ]
    }
   ],
   "source": [
    "xfns = [fs.actiontype,\n",
    "       fs.actiontype_onehot,\n",
    "       fs.bodypart,\n",
    "       fs.bodypart_onehot,\n",
    "       fs.goalscore,\n",
    "       fs.location,\n",
    "       fs.polar,\n",
    "       fs.direction,\n",
    "       fs.team,\n",
    "       fs.time,\n",
    "       fs.time_delta\n",
    "      ]\n",
    "\n",
    "with pd.HDFStore(spadl_h5) as spadlstore, pd.HDFStore(features_h5) as featurestore:\n",
    "    for game in tqdm.tqdm(list(games.itertuples()),desc=f\"Generating and storing features in {features_h5}\"):\n",
    "        actions = spadlstore[f\"atomic_actions/game_{game.game_id}\"]\n",
    "        actions = (\n",
    "            actions.merge(actiontypes,how=\"left\")\n",
    "            .merge(bodyparts,how=\"left\")\n",
    "            .reset_index(drop=True)\n",
    "        )\n",
    "        gamestates = fs.gamestates(actions,2)\n",
    "        gamestates = fs.play_left_to_right(gamestates,game.home_team_id)\n",
    "\n",
    "        X = pd.concat([fn(gamestates) for fn in xfns],axis=1)\n",
    "        featurestore[f\"game_{game.game_id}\"] = X"
   ]
  },
  {
   "cell_type": "code",
   "execution_count": 16,
   "metadata": {},
   "outputs": [
    {
     "name": "stderr",
     "output_type": "stream",
     "text": [
      "Computing and storing labels in ../../data-fifa/atomic-labels.h5: 100%|██████████| 64/64 [00:06<00:00,  9.35it/s]\n"
     ]
    }
   ],
   "source": [
    "yfns = [lab.scores,lab.concedes,lab.goal_from_shot]\n",
    "\n",
    "with pd.HDFStore(spadl_h5) as spadlstore, pd.HDFStore(labels_h5) as labelstore:\n",
    "    for game in tqdm.tqdm(list(games.itertuples()),desc=f\"Computing and storing labels in {labels_h5}\"):\n",
    "        actions = spadlstore[f\"atomic_actions/game_{game.game_id}\"]\n",
    "        actions = (\n",
    "            actions.merge(actiontypes,how=\"left\")\n",
    "            .merge(bodyparts,how=\"left\")\n",
    "            .reset_index(drop=True)\n",
    "        )\n",
    "        Y = pd.concat([fn(actions) for fn in yfns],axis=1)\n",
    "        labelstore[f\"game_{game.game_id}\"] = Y"
   ]
  }
 ],
 "metadata": {
  "kernelspec": {
   "display_name": "Python 3",
   "language": "python",
   "name": "python3"
  },
  "language_info": {
   "codemirror_mode": {
    "name": "ipython",
    "version": 3
   },
   "file_extension": ".py",
   "mimetype": "text/x-python",
   "name": "python",
   "nbconvert_exporter": "python",
   "pygments_lexer": "ipython3",
   "version": "3.6.6"
  },
  "varInspector": {
   "cols": {
    "lenName": 16,
    "lenType": 16,
    "lenVar": 40
   },
   "kernels_config": {
    "python": {
     "delete_cmd_postfix": "",
     "delete_cmd_prefix": "del ",
     "library": "var_list.py",
     "varRefreshCmd": "print(var_dic_list())"
    },
    "r": {
     "delete_cmd_postfix": ") ",
     "delete_cmd_prefix": "rm(",
     "library": "var_list.r",
     "varRefreshCmd": "cat(var_dic_list()) "
    }
   },
   "types_to_exclude": [
    "module",
    "function",
    "builtin_function_or_method",
    "instance",
    "_Feature"
   ],
   "window_display": false
  }
 },
 "nbformat": 4,
 "nbformat_minor": 2
}
